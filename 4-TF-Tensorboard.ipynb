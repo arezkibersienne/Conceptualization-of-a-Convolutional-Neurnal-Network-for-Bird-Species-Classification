{
 "cells": [
  {
   "cell_type": "markdown",
   "metadata": {},
   "source": [
    "# **TENSORBOARD**"
   ]
  },
  {
   "cell_type": "markdown",
   "metadata": {},
   "source": [
    "# Step 1: Set the model path"
   ]
  },
  {
   "cell_type": "code",
   "execution_count": 1,
   "metadata": {},
   "outputs": [],
   "source": [
    "# Set model path\n",
    "#PATH_TO_MODEL = \"faster_rcnn_resnet101_v1_1024x1024_coco17_tpu-8\"\n",
    "#PATH_TO_MODEL = \"ssd_resnet50_v1_fpn_1024x1024_coco17_tpu-8\"\n",
    "#PATH_TO_MODEL = \"ssd_mobilenet_v2_fpnlite_640x640_coco17_tpu-8\"\n",
    "#PATH_TO_MODEL = \"efficientdet_d1_coco17_tpu-32\"\n",
    "#PATH_TO_MODEL = \"ssd_resnet101_v1_fpn_1024x1024_coco17_tpu-8\"\n",
    "PATH_TO_MODEL = \"faster_rcnn_inception_resnet_v2_1024x1024_coco17_tpu-8\""
   ]
  },
  {
   "cell_type": "markdown",
   "metadata": {},
   "source": [
    "# Step 2: Run the Tensorboard"
   ]
  },
  {
   "cell_type": "code",
   "execution_count": null,
   "metadata": {},
   "outputs": [
    {
     "name": "stdout",
     "output_type": "stream",
     "text": [
      "2023-01-12 23:04:25.354369: I tensorflow/stream_executor/platform/default/dso_loader.cc:53] Successfully opened dynamic library libcudart.so.11.0\n",
      "\n",
      "NOTE: Using experimental fast data loading logic. To disable, pass\n",
      "    \"--load_fast=false\" and report issues on GitHub. More details:\n",
      "    https://github.com/tensorflow/tensorboard/issues/4784\n",
      "\n",
      "Serving TensorBoard on localhost; to expose to the network, use a proxy or pass --bind_all\n",
      "TensorBoard 2.6.0 at http://localhost:6006/ (Press CTRL+C to quit)\n"
     ]
    }
   ],
   "source": [
    "!tensorboard --logdir=training/TF2/training/{PATH_TO_MODEL}/"
   ]
  },
  {
   "cell_type": "markdown",
   "metadata": {},
   "source": [
    "## **MODEL 1 : FASTER R-CNN ResNet 101 V1 1024x1024**"
   ]
  },
  {
   "cell_type": "markdown",
   "metadata": {},
   "source": [
    "<img src=\"./screens/fasterResentMAP.png\" alt=\"mAP\">\n",
    "<img src=\"./screens/fasterResentLoss.png\" alt=\"Loss\">\n"
   ]
  },
  {
   "cell_type": "markdown",
   "metadata": {},
   "source": [
    "## **MODEL 2 : SSD ResNet 50 V1 1024x1024**"
   ]
  },
  {
   "cell_type": "markdown",
   "metadata": {},
   "source": [
    "<img src=\"./screens/ssd_res50v1_map.png\" alt=\"mAP\">\n",
    "<img src=\"./screens/ssd_res50v1_loss.png\" alt=\"Loss\">\n"
   ]
  },
  {
   "cell_type": "markdown",
   "metadata": {},
   "source": [
    "## **MODEL 3 : SSD ResNet 101 V1 1024x1024**"
   ]
  },
  {
   "cell_type": "markdown",
   "metadata": {},
   "source": [
    "<img src=\"./screens/ssdresent101map.png\" alt=\"mAP\">\n",
    "<img src=\"./screens/ssdresent101loss.png\" alt=\"Loss\">\n"
   ]
  },
  {
   "cell_type": "markdown",
   "metadata": {},
   "source": [
    "## **MODEL 4 : FASTER R-CNN Inception ResNet V2 1024x1024**"
   ]
  },
  {
   "cell_type": "markdown",
   "metadata": {},
   "source": [
    "<img src=\"./screens/fasterRCNN_InceptionMAP.png\" alt=\"mAP\">\n",
    "<img src=\"./screens/fasterInceptionLoss.png\" alt=\"Loss\">\n"
   ]
  },
  {
   "cell_type": "markdown",
   "metadata": {},
   "source": [
    "# **DISCUSSION**"
   ]
  },
  {
   "cell_type": "markdown",
   "metadata": {},
   "source": [
    "### Based on the results of our experiments, it is clear that the Faster R-CNN ResNet 101 V1 1024x1024 model performed the best among the four models. This model achieved a very high mAP of 0.87 on mAP 0.5 and over 0.7 in mAP 0.75, which indicates that the model is able to detect and classify the birds with high accuracy. Additionally, the model had a low loss of 0.02, indicating that the model is well-optimized and able to generalize well to new data. The detection and classification performance were also very good, with a high confidence score of 0.98, and the model even ignored outliers in the classification.\n",
    "\n",
    "### The reason why we stopped training the Faster R-CNN ResNet 101 V1 1024x1024 model is because we reached a point where the model's performance had plateaued, and further training was unlikely to result in significant improvements. This is a common phenomenon in deep learning, and it is often a sign that the model has reached a good level of performance. Additionally, training for such a long time (11150 epochs) requires a lot of computational resources and can be time-consuming.\n",
    "\n",
    "### The Faster R-CNN Inception ResNet V2 1024x1024 model performance, on the other hand, was not as good as the Faster R-CNN ResNet 101 V1 1024x1024 model. The mAP for this model was relatively low, indicating that the model was not able to detect and classify the birds as accurately as the Faster R-CNN ResNet 101 V1 1024x1024 model. Additionally, the loss for this model was relatively high, indicating that the model may be overfitting to the training data. The detection and bounding box performance were also poor, which may be due to the fact that the Inception ResNet V2 backbone is not as well-suited to this task as the ResNet101 backbone.\n",
    "\n",
    "### The SSD ResNet50 V1 1024x1024 and SSD ResNet101 V1 1024x1024 models also did not perform as well as the Faster R-CNN ResNet 101 V1 1024x1024 model. The mAP for these models was below 1, and the detection and bounding box performance was poor, even with a low confidence threshold of 0.2. The loss for these models was also relatively high, around 2. Training these models for longer (7000 and 20000 epochs respectively) did not improve their performance. This may be due to the fact that the SSD architecture is not as well-suited to this task as the Faster R-CNN architecture, or it could be that the ResNet50 and ResNet101 backbones are not as well-suited to this task as the ResNet101 backbone used in the Faster R-CNN model.\n",
    "\n",
    "### In summary, it is clear that the Faster R-CNN ResNet 101 V1 1024x1024 model performed the best among the four models, and it is likely that this is the model that we should use for this task. The other models either did not perform as well or were not as well-suited to the task, and further training would not result in significant improvements."
   ]
  },
  {
   "cell_type": "code",
   "execution_count": null,
   "metadata": {},
   "outputs": [],
   "source": []
  }
 ],
 "metadata": {
  "kernelspec": {
   "display_name": "Python 3",
   "language": "python",
   "name": "python3"
  },
  "language_info": {
   "codemirror_mode": {
    "name": "ipython",
    "version": 3
   },
   "file_extension": ".py",
   "mimetype": "text/x-python",
   "name": "python",
   "nbconvert_exporter": "python",
   "pygments_lexer": "ipython3",
   "version": "3.8.11"
  }
 },
 "nbformat": 4,
 "nbformat_minor": 4
}
